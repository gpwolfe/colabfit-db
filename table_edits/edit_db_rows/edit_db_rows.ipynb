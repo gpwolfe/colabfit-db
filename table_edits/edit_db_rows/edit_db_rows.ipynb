{
 "cells": [
  {
   "cell_type": "markdown",
   "metadata": {},
   "source": [
    "### Imports"
   ]
  },
  {
   "cell_type": "code",
   "execution_count": null,
   "metadata": {},
   "outputs": [],
   "source": [
    "from vastdb.session import Session\n",
    "from dotenv import load_dotenv\n",
    "import os\n",
    "import pyarrow as pa\n",
    "import numpy as np\n",
    "\n",
    "load_dotenv()\n",
    "vast_db_access = os.getenv(\"VAST_DB_ACCESS\")\n",
    "vast_db_secret = os.getenv(\"VAST_DB_SECRET\")\n",
    "endpoint = os.getenv(\"VAST_DB_ENDPOINT\")\n",
    "sess = Session(access=vast_db_access, secret=vast_db_secret, endpoint=endpoint)"
   ]
  },
  {
   "cell_type": "markdown",
   "metadata": {},
   "source": [
    "### Update row(s)"
   ]
  },
  {
   "cell_type": "markdown",
   "metadata": {},
   "source": [
    "#### update/zero multiplicity"
   ]
  },
  {
   "cell_type": "code",
   "execution_count": null,
   "metadata": {},
   "outputs": [],
   "source": [
    "with sess.transaction() as tx:\n",
    "    table = tx.bucket(\"colabfit\").schema(\"dev\").table(\"po_wip\")\n",
    "    reader = table.select(\n",
    "        predicate=(table[\"dataset_id\"] == \"DS_otx1qc9f3pm4_0\")\n",
    "        & (table[\"multiplicity\"] > 1),  # or > 0 if zeroing multiplicity\n",
    "        internal_row_id=True,\n",
    "    )\n",
    "    for batch in reader:\n",
    "        pbatch = batch.to_pandas()\n",
    "        pbatch[\"multiplicity\"] = np.int32(1)  # or 0, if zeroing multiplicity\n",
    "        # print(pbatch.loc[:, [\"multiplicity\", \"$row_id\"]])\n",
    "        pa_table = pa.table(pbatch.loc[:, [\"multiplicity\", \"$row_id\"]])\n",
    "        print(pa_table.schema)\n",
    "        table.update(pa_table, columns=[\"multiplicity\"])"
   ]
  },
  {
   "cell_type": "markdown",
   "metadata": {},
   "source": [
    "#### Change dataset names"
   ]
  },
  {
   "cell_type": "code",
   "execution_count": null,
   "metadata": {},
   "outputs": [],
   "source": [
    "ds_name = \"\"\n",
    "new_ds_name = \"\"\n",
    "with sess.transaction() as tx:\n",
    "    table = tx.bucket(\"colabfit\").schema(\"dev\").table(\"ds_wip\")\n",
    "    reader = table.select(\n",
    "        predicate=(table[\"name\"] == ds_name),\n",
    "        internal_row_id=True,\n",
    "    )\n",
    "    for batch in reader:\n",
    "        pbatch = batch.to_pandas()\n",
    "        pbatch[\"name\"] = new_ds_name\n",
    "        print(pbatch.loc[:, [\"name\", \"$row_id\"]])\n",
    "        pa_table = pa.table(pbatch.loc[:, [\"name\", \"$row_id\"]])\n",
    "        print(pa_table.schema)\n",
    "        table.update(pa_table, columns=[\"name\"])"
   ]
  },
  {
   "cell_type": "markdown",
   "metadata": {},
   "source": [
    "#### Edit dataset description"
   ]
  },
  {
   "cell_type": "code",
   "execution_count": null,
   "metadata": {},
   "outputs": [],
   "source": [
    "dataset_id = \"\"\n",
    "\n",
    "with sess.transaction() as tx:\n",
    "    table = tx.bucket(\"colabfit\").schema(\"dev\").table(\"ds_wip\")\n",
    "    reader = table.select(\n",
    "        predicate=(table[\"id\"] == dataset_id),\n",
    "        internal_row_id=True,\n",
    "    )\n",
    "    for batch in reader:\n",
    "        pbatch = batch.to_pandas()\n",
    "        pbatch[\"description\"] = \"\"\n",
    "        print(pbatch.loc[:, [\"name\", \"$row_id\"]])\n",
    "        pa_table = pa.table(pbatch.loc[:, [\"name\", \"$row_id\"]])\n",
    "        print(pa_table.schema)\n",
    "        table.update(pa_table, columns=[\"name\"])"
   ]
  },
  {
   "cell_type": "markdown",
   "metadata": {},
   "source": [
    "#### Add dataset DOIs"
   ]
  },
  {
   "cell_type": "code",
   "execution_count": null,
   "metadata": {},
   "outputs": [],
   "source": [
    "doi_map = {\"\": \"\"}\n",
    "[\"\"]"
   ]
  },
  {
   "cell_type": "code",
   "execution_count": null,
   "metadata": {},
   "outputs": [],
   "source": [
    "for id, doi in doi_map.items():\n",
    "    with sess.transaction() as tx:\n",
    "        table = tx.bucket(\"colabfit\").schema(\"dev\").table(\"ds_wip\")\n",
    "        row = table.select(predicate=table[\"id\"] == id, internal_row_id=True)\n",
    "        row = row.read_all()\n",
    "\n",
    "    row = row.to_pandas()\n",
    "    row[\"doi\"] = doi\n",
    "    update_table = pa.table(row[[\"id\", \"doi\", \"$row_id\"]])\n",
    "    with sess.transaction() as tx:\n",
    "        table = tx.bucket(\"colabfit\").schema(\"dev\").table(\"ds_wip\")\n",
    "        table.update(rows=update_table, columns=[\"doi\"])"
   ]
  },
  {
   "cell_type": "code",
   "execution_count": null,
   "metadata": {},
   "outputs": [],
   "source": [
    "# Add a column value to single row\n",
    "id = \"dataset_id\"\n",
    "col = \"publication_year\"\n",
    "value = \"2024\"\n",
    "with sess.transaction() as tx:\n",
    "    table = tx.bucket(\"colabfit\").schema(\"dev\").table(\"ds_wip\")\n",
    "    row = table.select(predicate=table[\"id\"] == id, internal_row_id=True)\n",
    "    row = row.read_all()\n",
    "row = row.to_pandas()\n",
    "row[col] = value\n",
    "update_table = pa.table(row[[\"id\", col, \"$row_id\"]])\n",
    "with sess.transaction() as tx:\n",
    "    table = tx.bucket(\"colabfit\").schema(\"dev\").table(\"ds_wip\")\n",
    "    table.update(rows=update_table, columns=[col])"
   ]
  },
  {
   "cell_type": "markdown",
   "metadata": {},
   "source": [
    "### Delete a row"
   ]
  },
  {
   "cell_type": "code",
   "execution_count": null,
   "metadata": {},
   "outputs": [],
   "source": [
    "# Delete a row\n",
    "id = \"dataset_id\"\n",
    "with sess.transaction() as tx:\n",
    "    table = tx.bucket(\"colabfit\").schema(\"dev\").table(\"ds_wip\")\n",
    "    row = table.select(predicate=table[\"id\"] == id, internal_row_id=True)\n",
    "    table.delete(row.read_next_batch())"
   ]
  }
 ],
 "metadata": {
  "kernelspec": {
   "display_name": "cfdb_env",
   "language": "python",
   "name": "python3"
  },
  "language_info": {
   "codemirror_mode": {
    "name": "ipython",
    "version": 3
   },
   "file_extension": ".py",
   "mimetype": "text/x-python",
   "name": "python",
   "nbconvert_exporter": "python",
   "pygments_lexer": "ipython3",
   "version": "3.11.4"
  }
 },
 "nbformat": 4,
 "nbformat_minor": 2
}
