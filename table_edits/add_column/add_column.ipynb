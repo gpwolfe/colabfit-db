{
 "cells": [
  {
   "cell_type": "code",
   "execution_count": 1,
   "metadata": {},
   "outputs": [],
   "source": [
    "from vastdb.session import Session\n",
    "from dotenv import load_dotenv\n",
    "import os\n",
    "from datetime import datetime\n",
    "import pyarrow as pa\n",
    "\n",
    "load_dotenv()\n",
    "endpoint = os.getenv(\"VAST_DB_ENDPOINT\")\n",
    "access = os.getenv(\"VAST_DB_ACCESS\")\n",
    "secret = os.getenv(\"VAST_DB_SECRET\")\n",
    "sess = Session(access=access, secret=secret, endpoint=endpoint)"
   ]
  },
  {
   "cell_type": "code",
   "execution_count": null,
   "metadata": {},
   "outputs": [],
   "source": [
    "column_name = \"\"\n",
    "\n",
    "table_name = \"ndb.colabfit.dev.co_wip\"\n",
    "table_split = table_name.split(\".\")\n",
    "arrow_schema = pa.schema(\n",
    "    [\n",
    "        pa.field(column_name, pa.string()),\n",
    "    ]\n",
    ")\n",
    "with sess.transaction() as tx:\n",
    "    table = tx.bucket(table_split[1]).schema(table_split[2]).table(table_split[3])\n",
    "    table.add_column(arrow_schema)"
   ]
  }
 ],
 "metadata": {
  "kernelspec": {
   "display_name": "cfdb_env",
   "language": "python",
   "name": "python3"
  },
  "language_info": {
   "codemirror_mode": {
    "name": "ipython",
    "version": 3
   },
   "file_extension": ".py",
   "mimetype": "text/x-python",
   "name": "python",
   "nbconvert_exporter": "python",
   "pygments_lexer": "ipython3",
   "version": "3.11.4"
  }
 },
 "nbformat": 4,
 "nbformat_minor": 2
}
