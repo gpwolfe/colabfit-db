{
 "cells": [
  {
   "cell_type": "code",
   "execution_count": null,
   "metadata": {},
   "outputs": [],
   "source": [
    "import os\n",
    "\n",
    "import pyarrow as pa\n",
    "from colabfit.tools.vast.utilities import spark_schema_to_arrow_schema\n",
    "from dotenv import load_dotenv\n",
    "from vastdb.session import Session\n",
    "\n",
    "load_dotenv()\n",
    "endpoint = os.getenv(\"VAST_DB_ENDPOINT\")\n",
    "access = os.getenv(\"VAST_DB_ACCESS\")\n",
    "secret = os.getenv(\"VAST_DB_SECRET\")\n",
    "sess = Session(access=access, secret=secret, endpoint=endpoint)"
   ]
  },
  {
   "cell_type": "code",
   "execution_count": null,
   "metadata": {},
   "outputs": [],
   "source": [
    "column_name = \"\"\n",
    "\n",
    "with sess.transaction() as tx:\n",
    "    table = tx.bucket(\"colabfit\").schema(\"dev\").table(\"co_wip\")\n",
    "    table.drop_column(pa.schema([pa.field(column_name, pa.string())]))"
   ]
  }
 ],
 "metadata": {
  "kernelspec": {
   "display_name": "cfdb_env",
   "language": "python",
   "name": "python3"
  },
  "language_info": {
   "name": "python",
   "version": "3.11.4"
  }
 },
 "nbformat": 4,
 "nbformat_minor": 2
}
