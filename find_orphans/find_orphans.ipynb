{
 "cells": [
  {
   "cell_type": "code",
   "execution_count": null,
   "metadata": {},
   "outputs": [],
   "source": [
    "ids = [\n",
    "    \"DS_f312cdv4p0eh_0\",\n",
    "    \"DS_gn2r8wkmj8na_0\",\n",
    "    \"DS_arkwiyee6f3e_0\",\n",
    "    \"DS_38gx79a86v6r_0\",\n",
    "    \"DS_nn303f7h8syk_0\",\n",
    "    \"DS_zlxgrekdla8l_0\",\n",
    "    \"DS_w5kzth1uof2y_0\",\n",
    "    \"DS_8yagh9ajb4k8_0\",\n",
    "    \"DS_40cwg2s2cy2z_0\",\n",
    "    \"DS_gn4ti9f2itea_0\",\n",
    "    \"DS_kq5u4xa6sq5h_0\",\n",
    "    \"DS_yj6mh5v6cj6r_0\",\n",
    "    \"DS_y1yt8cetzhk3_0\",\n",
    "    \"DS_bk5yirwyozjy_0\",\n",
    "]\n",
    "# \"DS_otx1qc9f3pm4_0\", # OC20-20M"
   ]
  },
  {
   "cell_type": "code",
   "execution_count": null,
   "metadata": {},
   "outputs": [],
   "source": [
    "(DS_gn2r8wkmj8na_0) | (DS_tnelggdzqaw2_0) | (DS_8yagh9ajb4k8_0) | (\n",
    "    DS_zlxgrekdla8l_0\n",
    ") | (DS_nn303f7h8syk_0) | (DS_zlxgrekdla8l_0) | (DS_y1yt8cetzhk3_0) | (\n",
    "    DS_8yagh9ajb4k8_0\n",
    ") | (\n",
    "    DS_38gx79a86v6r_0\n",
    ") | (\n",
    "    DS_foyahm0mqd0z_0\n",
    ") | (\n",
    "    DS_kq5u4xa6sq5h_0\n",
    ") | (\n",
    "    DS_bk5yirwyozjy_0\n",
    ") | (\n",
    "    DS_arkwiyee6f3e_0\n",
    ") | (\n",
    "    DS_zrdshoa4zpvy_0\n",
    ") | (\n",
    "    DS_40cwg2s2cy2z_0\n",
    ") | (\n",
    "    DS_f312cdv4p0eh_0\n",
    ") | (\n",
    "    DS_gn2r8wkmj8na_0\n",
    ") | (\n",
    "    DS_y1yt8cetzhk3_0\n",
    ") | (\n",
    "    DS_38gx79a86v6r_0\n",
    ") | (\n",
    "    DS_alqeb8acwpzh_0\n",
    ") | (\n",
    "    DS_w5kzth1uof2y_0\n",
    ") | (\n",
    "    DS_gn2r8wkmj8na_0\n",
    ") | (\n",
    "    DS_8yagh9ajb4k8_0\n",
    ") | (\n",
    "    DS_yj6mh5v6cj6r_0\n",
    ") | (\n",
    "    DS_alqeb8acwpzh_0\n",
    ") | (\n",
    "    DS_gn2r8wkmj8na_0\n",
    ") | (\n",
    "    DS_8yagh9ajb4k8_0\n",
    ")"
   ]
  }
 ],
 "metadata": {
  "kernelspec": {
   "display_name": "cfdb_env",
   "language": "python",
   "name": "python3"
  },
  "language_info": {
   "name": "python",
   "version": "3.11.4"
  }
 },
 "nbformat": 4,
 "nbformat_minor": 2
}
